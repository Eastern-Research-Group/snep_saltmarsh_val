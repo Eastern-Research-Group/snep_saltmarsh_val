{
 "cells": [
  {
   "cell_type": "markdown",
   "metadata": {},
   "source": [
    "# Convert SLAMM raster outputs to polygons for analyses"
   ]
  },
  {
   "cell_type": "code",
   "execution_count": 1,
   "metadata": {},
   "outputs": [
    {
     "name": "stderr",
     "output_type": "stream",
     "text": [
      "c:\\Users\\AMarley.ERG\\.conda\\envs\\geospatial-new\\Lib\\site-packages\\tqdm\\auto.py:21: TqdmWarning: IProgress not found. Please update jupyter and ipywidgets. See https://ipywidgets.readthedocs.io/en/stable/user_install.html\n",
      "  from .autonotebook import tqdm as notebook_tqdm\n"
     ]
    }
   ],
   "source": [
    "import geopandas as gpd\n",
    "import pandas as pd\n",
    "import rioxarray as rx\n",
    "import geowombat as gw\n",
    "from rasterio.features import shapes\n",
    "import numpy as np"
   ]
  },
  {
   "cell_type": "code",
   "execution_count": 2,
   "metadata": {},
   "outputs": [],
   "source": [
    "# data paths\n",
    "RAW_DATA = \"../data/raw/\"\n",
    "CLEAN_DATA = \"../data/clean/\"\n",
    "SLAMM_DATA = \"C:/Users/AMarley.ERG/OneDrive - Eastern Research Group/Projects/snep_saltmarsh/SLAMM_runs/\"\n",
    "\n",
    "cc1_data = SLAMM_DATA + \"cc_1/\"\n",
    "cc1_output = \"../output/cc1/\"\n",
    "\n",
    "ma2_data = SLAMM_DATA + \"ma_2/\"\n",
    "ma2_output = \"../output/ma2/\"\n",
    "\n",
    "ri2_data = SLAMM_DATA + \"ri2/\"\n",
    "ri2_output = \"../output/ri2/\""
   ]
  },
  {
   "cell_type": "markdown",
   "metadata": {},
   "source": [
    "Polygonize the raster"
   ]
  },
  {
   "cell_type": "code",
   "execution_count": 3,
   "metadata": {},
   "outputs": [],
   "source": [
    "# Make inundation frequency key to add to dataframe\n",
    "inun_freq_key_list = [\n",
    "    [0, 'always inundated'], \n",
    "    [1, '30-day inundation'], \n",
    "    [2, '60-day inundation'], \n",
    "    [3, '90-day inundation'], \n",
    "    [4, '10-year storm'], \n",
    "    [5, '100-year storm'], \n",
    "    [8, 'protected by dikes']\n",
    "]\n",
    "\n",
    "inun_freq_key_df = pd.DataFrame(inun_freq_key_list, columns=['inun_freq_code', 'inun_freq'])"
   ]
  },
  {
   "cell_type": "code",
   "execution_count": 4,
   "metadata": {},
   "outputs": [
    {
     "data": {
      "text/html": [
       "<div>\n",
       "<style scoped>\n",
       "    .dataframe tbody tr th:only-of-type {\n",
       "        vertical-align: middle;\n",
       "    }\n",
       "\n",
       "    .dataframe tbody tr th {\n",
       "        vertical-align: top;\n",
       "    }\n",
       "\n",
       "    .dataframe thead th {\n",
       "        text-align: right;\n",
       "    }\n",
       "</style>\n",
       "<table border=\"1\" class=\"dataframe\">\n",
       "  <thead>\n",
       "    <tr style=\"text-align: right;\">\n",
       "      <th></th>\n",
       "      <th>Category Name</th>\n",
       "      <th>SLAMM Number</th>\n",
       "      <th>Open Water</th>\n",
       "      <th>Tidal</th>\n",
       "      <th>NonTidal Wet.</th>\n",
       "      <th>Dry Land</th>\n",
       "      <th>Developed</th>\n",
       "      <th>Aggregation Category</th>\n",
       "    </tr>\n",
       "  </thead>\n",
       "  <tbody>\n",
       "    <tr>\n",
       "      <th>0</th>\n",
       "      <td>Developed Dry Land</td>\n",
       "      <td>1</td>\n",
       "      <td>0</td>\n",
       "      <td>0</td>\n",
       "      <td>0</td>\n",
       "      <td>1</td>\n",
       "      <td>1</td>\n",
       "      <td>Aggregated Non Tidal</td>\n",
       "    </tr>\n",
       "    <tr>\n",
       "      <th>1</th>\n",
       "      <td>Undeveloped Dry Land</td>\n",
       "      <td>2</td>\n",
       "      <td>0</td>\n",
       "      <td>0</td>\n",
       "      <td>0</td>\n",
       "      <td>1</td>\n",
       "      <td>0</td>\n",
       "      <td>Aggregated Non Tidal</td>\n",
       "    </tr>\n",
       "    <tr>\n",
       "      <th>2</th>\n",
       "      <td>Swamp</td>\n",
       "      <td>3</td>\n",
       "      <td>0</td>\n",
       "      <td>0</td>\n",
       "      <td>1</td>\n",
       "      <td>0</td>\n",
       "      <td>0</td>\n",
       "      <td>Freshwater Non-Tidal</td>\n",
       "    </tr>\n",
       "    <tr>\n",
       "      <th>3</th>\n",
       "      <td>Cypress Swamp</td>\n",
       "      <td>4</td>\n",
       "      <td>0</td>\n",
       "      <td>0</td>\n",
       "      <td>1</td>\n",
       "      <td>0</td>\n",
       "      <td>0</td>\n",
       "      <td>Freshwater Non-Tidal</td>\n",
       "    </tr>\n",
       "    <tr>\n",
       "      <th>4</th>\n",
       "      <td>Inland-Fresh Marsh</td>\n",
       "      <td>5</td>\n",
       "      <td>0</td>\n",
       "      <td>0</td>\n",
       "      <td>1</td>\n",
       "      <td>0</td>\n",
       "      <td>0</td>\n",
       "      <td>Freshwater Non-Tidal</td>\n",
       "    </tr>\n",
       "  </tbody>\n",
       "</table>\n",
       "</div>"
      ],
      "text/plain": [
       "          Category Name  SLAMM Number  Open Water  Tidal  NonTidal Wet.  \\\n",
       "0    Developed Dry Land             1           0      0              0   \n",
       "1  Undeveloped Dry Land             2           0      0              0   \n",
       "2                 Swamp             3           0      0              1   \n",
       "3         Cypress Swamp             4           0      0              1   \n",
       "4    Inland-Fresh Marsh             5           0      0              1   \n",
       "\n",
       "   Dry Land  Developed  Aggregation Category  \n",
       "0         1          1  Aggregated Non Tidal  \n",
       "1         1          0  Aggregated Non Tidal  \n",
       "2         0          0  Freshwater Non-Tidal  \n",
       "3         0          0  Freshwater Non-Tidal  \n",
       "4         0          0  Freshwater Non-Tidal  "
      ]
     },
     "execution_count": 4,
     "metadata": {},
     "output_type": "execute_result"
    }
   ],
   "source": [
    "slamm_key = pd.read_csv(RAW_DATA + 'slamm_cats.csv')\n",
    "slamm_key.head()"
   ]
  },
  {
   "cell_type": "code",
   "execution_count": 5,
   "metadata": {},
   "outputs": [],
   "source": [
    "# Convert Asc to Tif for easier processing\n",
    "def conv_to_tif(asc_path: str, which_crs, tif_path: str, is_flood_data: True):\n",
    "\n",
    "    # Open ASCI file\n",
    "    asc_file = rx.open_rasterio(asc_path)\n",
    "\n",
    "    # set the crs\n",
    "    # for MA marshes it's: WGS 84 / UTM zone 19N\n",
    "    asc_file.rio.write_crs(which_crs, inplace=True)\n",
    "\n",
    "    if is_flood_data:\n",
    "        # remove unnecessary values\n",
    "        asc_file = asc_file.where(asc_file>=0)\n",
    "        asc_file = asc_file.where(asc_file!=6)\n",
    "        asc_file = asc_file.where(asc_file!=7)\n",
    "\n",
    "    # wrtie to tif\n",
    "    asc_file.rio.to_raster(tif_path)"
   ]
  },
  {
   "cell_type": "code",
   "execution_count": 7,
   "metadata": {},
   "outputs": [],
   "source": [
    "def tif_to_polygon(rast_file_path:str, category_key:pd.DataFrame, key_col_name:str, which_year:str, marsh:str, outputpath:str, is_flood_data: True):\n",
    "\n",
    "    # read in raster and convert the float type\n",
    "    rast_file = rx.open_rasterio(rast_file_path)\n",
    "    rast_file = rast_file.astype(\"float32\")\n",
    "\n",
    "    # Convert the raster data to a numpy array\n",
    "    mask = rast_file.data[0] != rast_file.rio.nodata\n",
    "    results = (\n",
    "        {'properties': {key_col_name: v}, 'geometry': s}\n",
    "        for i, (s, v) in enumerate(\n",
    "            shapes(rast_file.data[0], mask=mask, transform=rast_file.rio.transform())\n",
    "        )\n",
    "    )\n",
    "\n",
    "    # Create a GeoDataFrame from the results\n",
    "    results_gdf = gpd.GeoDataFrame.from_features(results, crs=rast_file.rio.crs)\n",
    "\n",
    "    # Dissolve the geometry to simplify\n",
    "    results_gdf = results_gdf.dissolve(by=key_col_name).reset_index()\n",
    "\n",
    "    # remove NAs\n",
    "    results_gdf = results_gdf[~results_gdf[key_col_name].isna()]\n",
    "\n",
    "    if is_flood_data:\n",
    "        # add inundation frequency descriptions\n",
    "        results_gdf = results_gdf.merge(category_key, on=key_col_name, how='left')\n",
    "\n",
    "    # add descriptor columns\n",
    "    results_gdf[['year']] = which_year\n",
    "    results_gdf[['marsh']] = marsh\n",
    "\n",
    "    # save file\n",
    "    results_gdf.to_file(outputpath)\n",
    "\n",
    "    return results_gdf\n"
   ]
  },
  {
   "cell_type": "code",
   "execution_count": 8,
   "metadata": {},
   "outputs": [],
   "source": [
    "def polygonize_raster(\n",
    "        asc_path: str,\n",
    "        which_crs: int,\n",
    "        category_key:pd.DataFrame,\n",
    "        key_col_name:str,\n",
    "        which_year:str,\n",
    "        marsh:str,\n",
    "        outputpath:str,\n",
    "        is_flood_data: bool = True):\n",
    "    \"\"\"_summary_\n",
    "\n",
    "    Args:\n",
    "        asc_path (str): path to the SLAMM output asc file\n",
    "        which_crs (int): crs of the file\n",
    "        category_key (pd.DataFrame): dataframe key to add final names onto the numeric categories\n",
    "        key_col_name (str): name of column to join the key dataframe with\n",
    "        which_year (str): what year is this associated with\n",
    "        marsh (str): is a marsh present\n",
    "        outputpath (str): _description_\n",
    "        is_flood_data (bool, optional): is this inundation data. Defaults to True.\n",
    "    \"\"\"\n",
    "\n",
    "    tif_path = asc_path[:-4] + \".tif\"\n",
    "\n",
    "    # first convert asc to tif file\n",
    "    conv_to_tif(\n",
    "        asc_path=asc_path, \n",
    "        which_crs=which_crs, \n",
    "        tif_path=tif_path,\n",
    "        is_flood_data=is_flood_data\n",
    "        )\n",
    "    \n",
    "    # polygonize the raster\n",
    "    tif_to_polygon(\n",
    "        rast_file_path=tif_path,\n",
    "        category_key=category_key, \n",
    "        key_col_name=key_col_name, \n",
    "        which_year=which_year, \n",
    "        marsh=marsh, \n",
    "        outputpath=outputpath,\n",
    "        is_flood_data=is_flood_data\n",
    "    )\n"
   ]
  },
  {
   "cell_type": "code",
   "execution_count": null,
   "metadata": {},
   "outputs": [],
   "source": [
    "polygonize_raster(\n",
    "        asc_path=SLAMM_DATA + \"ri2/with_marsh/1slr/ri2_dem_OUT, 2040, prov_med_1slr_00_base _GIS.ASC\",\n",
    "        which_crs=26918,\n",
    "        category_key=inun_freq_key_df,\n",
    "        key_col_name='SLAMMCODE',\n",
    "        which_year=2040,\n",
    "        marsh='marsh present',\n",
    "        outputpath=CLEAN_DATA + 'slamm/ri2/veg/ri2_1slr_40_sm_veg.geojson',\n",
    "        is_flood_data=False\n",
    "    )"
   ]
  },
  {
   "cell_type": "code",
   "execution_count": 19,
   "metadata": {},
   "outputs": [
    {
     "name": "stderr",
     "output_type": "stream",
     "text": [
      "  0%|          | 0/120 [00:00<?, ?it/s]"
     ]
    },
    {
     "name": "stderr",
     "output_type": "stream",
     "text": [
      "Processing ri2_dem_OUT, Initial Condition _Inund_Freq_GIS.ASC: 100%|██████████| 120/120 [12:12<00:00,  6.11s/it]            \n"
     ]
    }
   ],
   "source": [
    "import glob\n",
    "import re\n",
    "from tqdm.auto import tqdm\n",
    "FILE_PATH_PATTERN = re.compile(r\"(cc_1|ma_2|ri2)/with_marsh/(1|2)slr/.*20(20|70|40).*_00_baseline _GIS.ASC\", re.IGNORECASE)\n",
    "pbar = tqdm(glob.glob(f\"{SLAMM_DATA}/*/*/*/*.ASC\"))\n",
    "for fpath in pbar:\n",
    "    fpath = fpath.replace(\"\\\\\", \"/\")\n",
    "    pbar.set_description(f\"Processing {fpath.split('/')[-1]}\")\n",
    "    match = FILE_PATH_PATTERN.search(fpath)\n",
    "    if not match:\n",
    "        continue\n",
    "\n",
    "    marsh_id = match.group(1).replace(\"_\", \"\")\n",
    "    slr_scenario = match.group(2)\n",
    "    year_id = int(match.group(3))\n",
    "\n",
    "    if marsh_id == 'ri2':\n",
    "        crs=26918\n",
    "    else:\n",
    "        crs=3857\n",
    "\n",
    "    polygonize_raster(\n",
    "        asc_path=fpath,\n",
    "        which_crs=crs,\n",
    "        category_key=inun_freq_key_df,\n",
    "        key_col_name='SLAMMCODE',\n",
    "        which_year=2000 + year_id,\n",
    "        marsh='no marsh',\n",
    "        outputpath=CLEAN_DATA + f'slamm/{marsh_id}/veg/{marsh_id}_{slr_scenario}slr_{year_id}_sm_veg.geojson',\n",
    "        is_flood_data=False\n",
    "    )"
   ]
  }
 ],
 "metadata": {
  "kernelspec": {
   "display_name": "geospatial-new",
   "language": "python",
   "name": "python3"
  },
  "language_info": {
   "codemirror_mode": {
    "name": "ipython",
    "version": 3
   },
   "file_extension": ".py",
   "mimetype": "text/x-python",
   "name": "python",
   "nbconvert_exporter": "python",
   "pygments_lexer": "ipython3",
   "version": "3.11.9"
  }
 },
 "nbformat": 4,
 "nbformat_minor": 2
}
