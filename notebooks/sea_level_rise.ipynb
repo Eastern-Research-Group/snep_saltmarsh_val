{
 "cells": [
  {
   "cell_type": "markdown",
   "metadata": {},
   "source": [
    "# Get SLR projections for each tide gauge"
   ]
  },
  {
   "cell_type": "code",
   "execution_count": 14,
   "metadata": {},
   "outputs": [],
   "source": [
    "import pandas as pd\n",
    "import numpy as np"
   ]
  },
  {
   "cell_type": "code",
   "execution_count": 7,
   "metadata": {},
   "outputs": [],
   "source": [
    "# data paths\n",
    "raw_data = \"../data/raw/\"\n",
    "clean_data = \"../data/clean/\"\n",
    "\n",
    "all_slr = pd.read_csv(raw_data + \"slr/SLR_TF U.S. Sea Level Projections.csv\", skiprows=17)"
   ]
  },
  {
   "cell_type": "markdown",
   "metadata": {},
   "source": [
    "Clean up NOAA SLR estimates to use for SLAMM"
   ]
  },
  {
   "cell_type": "code",
   "execution_count": 15,
   "metadata": {},
   "outputs": [
    {
     "data": {
      "text/html": [
       "<div>\n",
       "<style scoped>\n",
       "    .dataframe tbody tr th:only-of-type {\n",
       "        vertical-align: middle;\n",
       "    }\n",
       "\n",
       "    .dataframe tbody tr th {\n",
       "        vertical-align: top;\n",
       "    }\n",
       "\n",
       "    .dataframe thead th {\n",
       "        text-align: right;\n",
       "    }\n",
       "</style>\n",
       "<table border=\"1\" class=\"dataframe\">\n",
       "  <thead>\n",
       "    <tr style=\"text-align: right;\">\n",
       "      <th></th>\n",
       "      <th>NOAA ID</th>\n",
       "      <th>NOAA Name</th>\n",
       "      <th>Scenario</th>\n",
       "      <th>Offset 2000 to 2005 (cm)</th>\n",
       "      <th>year</th>\n",
       "      <th>RSL (cm)</th>\n",
       "      <th>RSL (m)</th>\n",
       "    </tr>\n",
       "  </thead>\n",
       "  <tbody>\n",
       "    <tr>\n",
       "      <th>0</th>\n",
       "      <td>0.0</td>\n",
       "      <td>GMSL</td>\n",
       "      <td>0.3 - MED</td>\n",
       "      <td>2</td>\n",
       "      <td>2000</td>\n",
       "      <td>0</td>\n",
       "      <td>0.00</td>\n",
       "    </tr>\n",
       "    <tr>\n",
       "      <th>1</th>\n",
       "      <td>0.0</td>\n",
       "      <td>GMSL</td>\n",
       "      <td>0.3 - LOW</td>\n",
       "      <td>2</td>\n",
       "      <td>2000</td>\n",
       "      <td>0</td>\n",
       "      <td>0.00</td>\n",
       "    </tr>\n",
       "    <tr>\n",
       "      <th>2</th>\n",
       "      <td>0.0</td>\n",
       "      <td>GMSL</td>\n",
       "      <td>0.3 - HIGH</td>\n",
       "      <td>2</td>\n",
       "      <td>2000</td>\n",
       "      <td>0</td>\n",
       "      <td>0.00</td>\n",
       "    </tr>\n",
       "    <tr>\n",
       "      <th>3</th>\n",
       "      <td>0.0</td>\n",
       "      <td>GMSL</td>\n",
       "      <td>0.5 - MED</td>\n",
       "      <td>2</td>\n",
       "      <td>2000</td>\n",
       "      <td>0</td>\n",
       "      <td>0.00</td>\n",
       "    </tr>\n",
       "    <tr>\n",
       "      <th>4</th>\n",
       "      <td>0.0</td>\n",
       "      <td>GMSL</td>\n",
       "      <td>0.5 - LOW</td>\n",
       "      <td>2</td>\n",
       "      <td>2000</td>\n",
       "      <td>0</td>\n",
       "      <td>0.00</td>\n",
       "    </tr>\n",
       "    <tr>\n",
       "      <th>...</th>\n",
       "      <td>...</td>\n",
       "      <td>...</td>\n",
       "      <td>...</td>\n",
       "      <td>...</td>\n",
       "      <td>...</td>\n",
       "      <td>...</td>\n",
       "      <td>...</td>\n",
       "    </tr>\n",
       "    <tr>\n",
       "      <th>670</th>\n",
       "      <td>8454000.0</td>\n",
       "      <td>Providence</td>\n",
       "      <td>1.5 - LOW</td>\n",
       "      <td>2</td>\n",
       "      <td>2150</td>\n",
       "      <td>181</td>\n",
       "      <td>1.81</td>\n",
       "    </tr>\n",
       "    <tr>\n",
       "      <th>671</th>\n",
       "      <td>8454000.0</td>\n",
       "      <td>Providence</td>\n",
       "      <td>1.5 - HIGH</td>\n",
       "      <td>2</td>\n",
       "      <td>2150</td>\n",
       "      <td>365</td>\n",
       "      <td>3.65</td>\n",
       "    </tr>\n",
       "    <tr>\n",
       "      <th>672</th>\n",
       "      <td>8454000.0</td>\n",
       "      <td>Providence</td>\n",
       "      <td>2.0 - MED</td>\n",
       "      <td>2</td>\n",
       "      <td>2150</td>\n",
       "      <td>343</td>\n",
       "      <td>3.43</td>\n",
       "    </tr>\n",
       "    <tr>\n",
       "      <th>673</th>\n",
       "      <td>8454000.0</td>\n",
       "      <td>Providence</td>\n",
       "      <td>2.0 - LOW</td>\n",
       "      <td>2</td>\n",
       "      <td>2150</td>\n",
       "      <td>242</td>\n",
       "      <td>2.42</td>\n",
       "    </tr>\n",
       "    <tr>\n",
       "      <th>674</th>\n",
       "      <td>8454000.0</td>\n",
       "      <td>Providence</td>\n",
       "      <td>2.0 - HIGH</td>\n",
       "      <td>2</td>\n",
       "      <td>2150</td>\n",
       "      <td>524</td>\n",
       "      <td>5.24</td>\n",
       "    </tr>\n",
       "  </tbody>\n",
       "</table>\n",
       "<p>675 rows × 7 columns</p>\n",
       "</div>"
      ],
      "text/plain": [
       "       NOAA ID   NOAA Name    Scenario  Offset 2000 to 2005 (cm)  year  \\\n",
       "0          0.0        GMSL   0.3 - MED                         2  2000   \n",
       "1          0.0        GMSL   0.3 - LOW                         2  2000   \n",
       "2          0.0        GMSL  0.3 - HIGH                         2  2000   \n",
       "3          0.0        GMSL   0.5 - MED                         2  2000   \n",
       "4          0.0        GMSL   0.5 - LOW                         2  2000   \n",
       "..         ...         ...         ...                       ...   ...   \n",
       "670  8454000.0  Providence   1.5 - LOW                         2  2150   \n",
       "671  8454000.0  Providence  1.5 - HIGH                         2  2150   \n",
       "672  8454000.0  Providence   2.0 - MED                         2  2150   \n",
       "673  8454000.0  Providence   2.0 - LOW                         2  2150   \n",
       "674  8454000.0  Providence  2.0 - HIGH                         2  2150   \n",
       "\n",
       "     RSL (cm)  RSL (m)  \n",
       "0           0     0.00  \n",
       "1           0     0.00  \n",
       "2           0     0.00  \n",
       "3           0     0.00  \n",
       "4           0     0.00  \n",
       "..        ...      ...  \n",
       "670       181     1.81  \n",
       "671       365     3.65  \n",
       "672       343     3.43  \n",
       "673       242     2.42  \n",
       "674       524     5.24  \n",
       "\n",
       "[675 rows x 7 columns]"
      ]
     },
     "execution_count": 15,
     "metadata": {},
     "output_type": "execute_result"
    }
   ],
   "source": [
    "# filter to just the sites we want\n",
    "wanted_slr = all_slr[all_slr['NOAA Name'].isin(['GMSL', 'Woods Hole', 'Providence'])]\n",
    "\n",
    "# tidy up\n",
    "wanted_slr = wanted_slr.drop(['PSMSL Site',\t'PSMSL ID','RSL GridNum', 'Lat', 'Long',\t\n",
    "                              'Regional Classification', 'US Coastline Intersect (1 = yes)', \n",
    "                              'Offset 1992 to 2000 (cm)', 'RSL contribution from VLM (trend: cm/year)'],  axis = 1)\n",
    "wanted_slr = pd.melt(wanted_slr, \n",
    "                     id_vars=['NOAA ID', 'NOAA Name', 'Scenario',\n",
    "                               'Offset 2000 to 2005 (cm)'], \n",
    "                    value_vars=wanted_slr.columns[wanted_slr.columns.str.startswith('RSL')],\n",
    "                    var_name='year',\n",
    "                    value_name='RSL (cm)')\n",
    "\n",
    "# create year column and remove the \"RSL (cm)\"\" part \n",
    "wanted_slr['year'] = wanted_slr['year'].str.extract(r'(\\d+)', expand=False)\n",
    "\n",
    "# To initiate the projections at year 2000, the value of the 2000-2005 offset should be added to each projection value \n",
    "wanted_slr['year'] = ['2000' if a == '2005' else a for a in wanted_slr['year']] # first set 2005 as 2000\n",
    "wanted_slr['RSL (cm)'] = [0 if a == 0 else a + 2 for a in wanted_slr['RSL (cm)']]\n",
    "\n",
    "# add a mm column\n",
    "wanted_slr['RSL (m)'] = wanted_slr['RSL (cm)'] / 100\n",
    "wanted_slr"
   ]
  },
  {
   "cell_type": "markdown",
   "metadata": {},
   "source": [
    "EPA wants medium and high for slr scenarios "
   ]
  },
  {
   "cell_type": "code",
   "execution_count": 16,
   "metadata": {},
   "outputs": [
    {
     "data": {
      "text/plain": [
       "array(['0.3 - MED', '0.3 - LOW', '0.3 - HIGH', '0.5 - MED', '0.5 - LOW',\n",
       "       '0.5 - HIGH', '1.0 - MED', '1.0 - LOW', '1.0 - HIGH', '1.5 - MED',\n",
       "       '1.5 - LOW', '1.5 - HIGH', '2.0 - MED', '2.0 - LOW', '2.0 - HIGH'],\n",
       "      dtype=object)"
      ]
     },
     "execution_count": 16,
     "metadata": {},
     "output_type": "execute_result"
    }
   ],
   "source": [
    "wanted_slr.Scenario.unique()"
   ]
  },
  {
   "cell_type": "code",
   "execution_count": 16,
   "metadata": {},
   "outputs": [],
   "source": [
    "def get_slr(wanted_slr: pd.DataFrame, station: str, scenario: str, filename:str):\n",
    "    station_slr = wanted_slr[wanted_slr['NOAA Name'] == station]\n",
    "    station_slr = station_slr[station_slr['Scenario'] == scenario]\n",
    "    station_slr = station_slr[[\"year\", \"RSL (m)\"]]\n",
    "    station_slr.to_csv(clean_data + \"slr/\" + filename + \"_2000_base.csv\")\n",
    "\n",
    "    return station_slr"
   ]
  },
  {
   "cell_type": "markdown",
   "metadata": {},
   "source": [
    "Global SLR"
   ]
  },
  {
   "cell_type": "code",
   "execution_count": 17,
   "metadata": {},
   "outputs": [],
   "source": [
    "# 1 medium scenario\n",
    "global_01_med = get_slr(wanted_slr, 'GMSL', '1.0 - MED', 'global_01_med')\n",
    "global_02_med = get_slr(wanted_slr, 'GMSL', '2.0 - MED', 'global_02_med')"
   ]
  },
  {
   "cell_type": "markdown",
   "metadata": {},
   "source": [
    "Woodshole"
   ]
  },
  {
   "cell_type": "code",
   "execution_count": 5,
   "metadata": {},
   "outputs": [],
   "source": [
    "# 0.5 medium scenario\n",
    "wh_05_med = get_slr(wanted_slr, 'Woods Hole', '0.5 - MED', 'wh_05_med')\n",
    "prov_05_med = get_slr(wanted_slr, 'Providence', '0.5 - MED', 'prov_05_med')"
   ]
  },
  {
   "cell_type": "code",
   "execution_count": 18,
   "metadata": {},
   "outputs": [],
   "source": [
    "# 1 medium scenario\n",
    "wh_01_med = get_slr(wanted_slr, 'Woods Hole', '1.0 - MED', 'wh_01_med')\n",
    "prov_01_med = get_slr(wanted_slr, 'Providence', '1.0 - MED', 'prov_01_med')"
   ]
  },
  {
   "cell_type": "code",
   "execution_count": 19,
   "metadata": {},
   "outputs": [],
   "source": [
    "# 2 medium scenario\n",
    "wh_02_med = get_slr(wanted_slr, 'Woods Hole', '2.0 - MED', 'wh_02_med')\n",
    "prov_02_med = get_slr(wanted_slr, 'Providence', '2.0 - MED', 'prov_02_med')"
   ]
  }
 ],
 "metadata": {
  "kernelspec": {
   "display_name": "geospatial-new",
   "language": "python",
   "name": "python3"
  },
  "language_info": {
   "codemirror_mode": {
    "name": "ipython",
    "version": 3
   },
   "file_extension": ".py",
   "mimetype": "text/x-python",
   "name": "python",
   "nbconvert_exporter": "python",
   "pygments_lexer": "ipython3",
   "version": "3.11.9"
  }
 },
 "nbformat": 4,
 "nbformat_minor": 2
}
