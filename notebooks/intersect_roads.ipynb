{
 "cells": [
  {
   "cell_type": "markdown",
   "metadata": {},
   "source": [
    "# Intersect roads with flooding data"
   ]
  },
  {
   "cell_type": "code",
   "execution_count": 2,
   "metadata": {},
   "outputs": [
    {
     "name": "stderr",
     "output_type": "stream",
     "text": [
      "c:\\Users\\AMarley.ERG\\.conda\\envs\\geospatial-new\\Lib\\site-packages\\tqdm\\auto.py:21: TqdmWarning: IProgress not found. Please update jupyter and ipywidgets. See https://ipywidgets.readthedocs.io/en/stable/user_install.html\n",
      "  from .autonotebook import tqdm as notebook_tqdm\n"
     ]
    }
   ],
   "source": [
    "import geopandas as gpd\n",
    "import pandas as pd\n",
    "import rioxarray as rx\n",
    "import geowombat as gw\n",
    "import matplotlib.pyplot as plt\n",
    "import contextily as cx\n",
    "import pygris"
   ]
  },
  {
   "cell_type": "code",
   "execution_count": 3,
   "metadata": {},
   "outputs": [],
   "source": [
    "# data paths\n",
    "RAW_DATA = \"../data/raw/\"\n",
    "CLEAN_DATA = \"../data/clean/\"\n",
    "SLAMM_DATA = 'C:/Users/AMarley.ERG/OneDrive - Eastern Research Group/Projects/snep_saltmarsh/SLAMM_runs/'\n",
    "\n",
    "CC1_SLAMM = SLAMM_DATA + \"cc_1/\"\n",
    "CC1_OUTPUT = \"../output/cc1/\"\n",
    "\n",
    "MA2_SLAMM = SLAMM_DATA + \"ma_2/\"\n",
    "MA2_OUTPUT = \"../output/ma2/\"\n",
    "\n",
    "RI2_SLAMM = SLAMM_DATA + \"ri2/\"\n",
    "RI2_OUTPUT = \"../output/ri2/\""
   ]
  },
  {
   "cell_type": "markdown",
   "metadata": {},
   "source": [
    "Read in the data"
   ]
  },
  {
   "cell_type": "code",
   "execution_count": null,
   "metadata": {},
   "outputs": [],
   "source": [
    "# Marsh extents\n",
    "cc1_ext = gpd.read_file(CLEAN_DATA + \"chosen_saltmarshes/cc1_extent.shp\")\n",
    "ma2_ext = gpd.read_file(CLEAN_DATA + \"chosen_saltmarshes/ma2_extent_buffer.shp\")\n",
    "ri2_ext = gpd.read_file(CLEAN_DATA + \"chosen_saltmarshes/ri2_extent_buffer.shp\")\n",
    "\n",
    "# Roads data\n",
    "ma_roads = gpd.read_file(RAW_DATA + 'roads/EOTROADS_ARC.shp')\n",
    "ri_roads = gpd.read_file(RAW_DATA + 'roads/RIDOT_Roads_2016_-5555183528379411917.geojson')"
   ]
  },
  {
   "cell_type": "markdown",
   "metadata": {},
   "source": [
    "Calculate miles of roads in each county"
   ]
  },
  {
   "cell_type": "code",
   "execution_count": 4,
   "metadata": {},
   "outputs": [
    {
     "name": "stdout",
     "output_type": "stream",
     "text": [
      "Using the default year of 2021\n"
     ]
    }
   ],
   "source": [
    "all_counties = pygris.counties()"
   ]
  },
  {
   "cell_type": "code",
   "execution_count": 5,
   "metadata": {},
   "outputs": [],
   "source": [
    "def get_mi_roads_cnty(which_state, which_county:str, which_crs, roads_gdf:gpd.GeoDataFrame):\n",
    "    \n",
    "    # get chosen county and simplify geodataframe\n",
    "    chosen_county = all_counties[(all_counties['STATEFP']==which_state) & (all_counties['NAME']==which_county)]\n",
    "    chosen_county = chosen_county[['NAME', 'geometry']]\n",
    "    chosen_county = chosen_county.to_crs(which_crs)\n",
    "    \n",
    "    # intersect county with raods\n",
    "    roads_gdf = roads_gdf.to_crs(which_crs)\n",
    "    county_roads = gpd.clip(roads_gdf, chosen_county)\n",
    "\n",
    "    # calculate miles intersected\n",
    "    county_roads_diss = county_roads.dissolve()\n",
    "    county_roads_diss['m'] = county_roads_diss.geometry.length\n",
    "    county_roads_diss['mi'] = county_roads_diss['m'] / 1609.34\n",
    "    county_roads_diss = county_roads_diss[['m', 'mi', 'geometry']]\n",
    "\n",
    "    return county_roads_diss\n"
   ]
  },
  {
   "cell_type": "code",
   "execution_count": 15,
   "metadata": {},
   "outputs": [],
   "source": [
    "bristol_roads = get_mi_roads_cnty('44', 'Bristol', 3857, ri_roads)\n",
    "barnstable_roads  = get_mi_roads_cnty('25', 'Barnstable', 3857, ma_roads)\n",
    "plymouth_roads  = get_mi_roads_cnty('25', 'Plymouth', 3857, ma_roads)"
   ]
  },
  {
   "cell_type": "markdown",
   "metadata": {},
   "source": [
    "Crop to Marsh"
   ]
  },
  {
   "cell_type": "code",
   "execution_count": 16,
   "metadata": {},
   "outputs": [],
   "source": [
    "def crop_roads(state_roads: gpd.GeoDataFrame, marsh_extent: gpd.GeoDataFrame, which_marsh: str):\n",
    "\n",
    "    # crop the roads data\n",
    "    state_roads_crs = state_roads.to_crs(marsh_extent.crs)\n",
    "    marsh_roads = gpd.clip(state_roads_crs, marsh_extent)\n",
    "\n",
    "    # save file\n",
    "    marsh_roads.to_file(CLEAN_DATA + 'roads/%s_roads.shp' % which_marsh)\n",
    "\n",
    "    # dissolve to one geometry\n",
    "    marsh_roads_diss = marsh_roads.dissolve()\n",
    "    marsh_roads_diss = marsh_roads_diss[['geometry']]\n",
    "    marsh_roads_diss.to_file(CLEAN_DATA + 'roads/%s_roads_diss.shp' % which_marsh)\n",
    "\n",
    "    return marsh_roads_diss"
   ]
  },
  {
   "cell_type": "code",
   "execution_count": 19,
   "metadata": {},
   "outputs": [],
   "source": [
    "ri2_ri_roads_diss = crop_roads(ri_roads, ri2_ext, 'ri2_ri')\n",
    "ri2_ma_roads_diss = crop_roads(ma_roads, ri2_ext, 'ri2_ma')\n",
    "ri2_roads_diss = pd.concat([ri2_ri_roads_diss,ri2_ma_roads_diss])\n",
    "ri2_roads_diss.to_file(CLEAN_DATA + 'roads/ri2_roads_diss.shp')"
   ]
  },
  {
   "cell_type": "code",
   "execution_count": null,
   "metadata": {},
   "outputs": [],
   "source": [
    "cc1_roads_diss = crop_roads(ma_roads, cc1_ext, 'cc1')\n",
    "ma2_roads_diss = crop_roads(ma_roads, ma2_ext, 'ma2')"
   ]
  },
  {
   "cell_type": "markdown",
   "metadata": {},
   "source": [
    "Intersect roads with flood data"
   ]
  },
  {
   "cell_type": "code",
   "execution_count": null,
   "metadata": {},
   "outputs": [],
   "source": [
    "ri2_roads_diss = gpd.read_file(CLEAN_DATA + 'roads/ri2_roads_diss.shp')\n",
    "cc1_roads_diss = gpd.read_file(CLEAN_DATA + 'roads/cc1_roads_diss.shp')\n",
    "ma2_roads_diss = gpd.read_file(CLEAN_DATA + 'roads/ma2_roads_diss.shp')"
   ]
  },
  {
   "cell_type": "code",
   "execution_count": 8,
   "metadata": {},
   "outputs": [],
   "source": [
    "# function to intersect the flooding geodataframe with roads\n",
    "def intersect_roads(inun_gdf: gpd.GeoDataFrame, intersect_gdf: gpd.GeoDataFrame):\n",
    "    intersected = gpd.overlay(intersect_gdf, inun_gdf, how='intersection')\n",
    "    intersected['m_inundated'] = intersected.geometry.length\n",
    "    intersected.drop('geometry', axis = 1, inplace=True)\n",
    "    roads_int = intersected.groupby(by = 'inun_freq').agg(\n",
    "        {'year': 'first', \n",
    "         'marsh': 'first',\n",
    "         'm_inundated': \"sum\"\n",
    "         }\n",
    "         ).reset_index()\n",
    "    roads_int['mi_inundated'] = roads_int['m_inundated'] / 1609.34\n",
    "    \n",
    "    return roads_int\n"
   ]
  },
  {
   "cell_type": "code",
   "execution_count": null,
   "metadata": {},
   "outputs": [],
   "source": [
    "import glob\n",
    "from tqdm.auto import tqdm\n",
    "combined_slr = None\n",
    "for fname in tqdm(glob.glob(CLEAN_DATA + \"slamm/ri2/ri2_2slr_*.geojson\")):\n",
    "    print(fname)\n",
    "    marsh_slr = gpd.read_file(fname)\n",
    "    intersected_df = intersect_roads(marsh_slr, ri2_roads_diss)\n",
    "    if combined_slr is None:\n",
    "        combined_slr = intersected_df\n",
    "    else:\n",
    "        combined_slr = pd.concat([combined_slr, intersected_df])\n",
    "\n",
    "combined_slr.to_csv(CLEAN_DATA + \"slamm/intersections/ri2_2slr_roads.csv\")"
   ]
  },
  {
   "cell_type": "markdown",
   "metadata": {},
   "source": [
    "Plot it"
   ]
  },
  {
   "cell_type": "code",
   "execution_count": 3,
   "metadata": {},
   "outputs": [],
   "source": [
    "cc1_1slr = pd.read_csv(CLEAN_DATA + \"slamm/cc1/cc1_1slr_roads.csv\")\n",
    "cc1_2slr = pd.read_csv(CLEAN_DATA + \"slamm/cc1/cc1_2slr_roads.csv\")"
   ]
  },
  {
   "cell_type": "code",
   "execution_count": 16,
   "metadata": {},
   "outputs": [],
   "source": [
    "cc1_1slr_70 = cc1_1slr[cc1_1slr['year']==2070]\n",
    "cc1_2slr_70 = cc1_2slr[cc1_2slr['year']==2070]"
   ]
  },
  {
   "cell_type": "code",
   "execution_count": 12,
   "metadata": {},
   "outputs": [],
   "source": [
    "# set order of bar plot\n",
    "import numpy as np\n",
    "order = [\n",
    "    'always inundated', \n",
    "    '30-day inundation',\n",
    "    '60-day inundation',\n",
    "    '90-day inundation'\n",
    "  #  '10-year storm',\n",
    "  #  '100-year storm'\n",
    "]\n",
    "\n",
    "def add_missing_cats(df: pd.DataFrame, keys: list[str]) -> pd.DataFrame:\n",
    "    missing_keys = set(keys) - set(df['inun_freq'].unique())\n",
    "    extra_df = pd.DataFrame([\n",
    "        {\n",
    "            'inun_freq': missing_key,\n",
    "            'mi_inundated': 0,\n",
    "            'year': df[\"year\"].iloc[0],\n",
    "            'marsh': 'no marsh'\n",
    "        }\n",
    "    for missing_key in missing_keys])\n",
    "    df_full = pd.concat([df, extra_df])\n",
    "    return df_full"
   ]
  },
  {
   "cell_type": "code",
   "execution_count": 20,
   "metadata": {},
   "outputs": [],
   "source": [
    "complete_df = add_missing_cats(cc1_2slr_70, order)\n",
    "pivoted_df = complete_df.groupby([\"marsh\", \"inun_freq\"])[\"mi_inundated\"].sum().unstack()\n",
    "order_idxs = [idx for val in order for idx in np.where(pivoted_df.columns == val)[0]]"
   ]
  },
  {
   "cell_type": "code",
   "execution_count": 21,
   "metadata": {},
   "outputs": [
    {
     "data": {
      "text/plain": [
       "<Axes: title={'center': 'CC-1, 2m slr, 2070'}, xlabel='Miles of Road Flooded'>"
      ]
     },
     "execution_count": 21,
     "metadata": {},
     "output_type": "execute_result"
    },
    {
     "data": {
      "image/png": "[encoded data removed]",
      "text/plain": [
       "<Figure size 1500x1000 with 1 Axes>"
      ]
     },
     "metadata": {},
     "output_type": "display_data"
    }
   ],
   "source": [
    "fig, ax = plt.subplots(figsize=(15, 10))\n",
    "pivoted_df.iloc[:, order_idxs].plot(ax=ax, kind=\"barh\", \n",
    "                                             stacked=True, cmap=\"RdYlBu\",\n",
    "                                             ylabel=''\n",
    "                                             )\n",
    "plt.title(\"CC-1, 2m slr, 2070\", fontsize=16)\n",
    "plt.xlabel('Miles of Road Flooded', fontsize=14)\n",
    "plt.xticks(fontsize=13)\n",
    "plt.yticks(fontsize=13)\n",
    "legend = plt.legend(title = \"Inundation Frequency\", fontsize=13, bbox_to_anchor = (1,0.5))\n",
    "legend.get_title().set_fontsize('14')\n",
    "ax"
   ]
  },
  {
   "cell_type": "code",
   "execution_count": 22,
   "metadata": {},
   "outputs": [],
   "source": [
    "fig.savefig(CC1_OUTPUT + \"cc1_2slr_70_roads_no_storm.png\", dpi=350, bbox_inches=\"tight\")"
   ]
  }
 ],
 "metadata": {
  "kernelspec": {
   "display_name": "geospatial-new",
   "language": "python",
   "name": "python3"
  },
  "language_info": {
   "codemirror_mode": {
    "name": "ipython",
    "version": 3
   },
   "file_extension": ".py",
   "mimetype": "text/x-python",
   "name": "python",
   "nbconvert_exporter": "python",
   "pygments_lexer": "ipython3",
   "version": "3.11.9"
  }
 },
 "nbformat": 4,
 "nbformat_minor": 2
}
