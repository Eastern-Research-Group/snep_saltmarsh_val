{
 "cells": [
  {
   "cell_type": "markdown",
   "metadata": {},
   "source": [
    "# Flooding frequency maps\n",
    "\n",
    "#### Create the flooding frequency maps for each saltmarsh"
   ]
  },
  {
   "cell_type": "code",
   "execution_count": 1,
   "metadata": {},
   "outputs": [
    {
     "name": "stderr",
     "output_type": "stream",
     "text": [
      "c:\\Users\\AMarley.ERG\\.conda\\envs\\geospatial-new\\Lib\\site-packages\\tqdm\\auto.py:21: TqdmWarning: IProgress not found. Please update jupyter and ipywidgets. See https://ipywidgets.readthedocs.io/en/stable/user_install.html\n",
      "  from .autonotebook import tqdm as notebook_tqdm\n"
     ]
    }
   ],
   "source": [
    "# Import libraries\n",
    "import pandas as pd\n",
    "import geopandas as gpd\n",
    "import matplotlib.pyplot as plt\n",
    "import contextily as cx\n",
    "from matplotlib.colors import ListedColormap\n",
    "from typing import Dict, List\n",
    "import numpy as np\n",
    "import glob\n",
    "from tqdm.auto import tqdm\n",
    "import re"
   ]
  },
  {
   "cell_type": "code",
   "execution_count": 2,
   "metadata": {},
   "outputs": [],
   "source": [
    "# data paths\n",
    "RAW_DATA = \"../data/raw/\"\n",
    "CLEAN_DATA = \"../data/clean/\"\n",
    "SLAMM_RESULTS = CLEAN_DATA + \"slamm/\"\n",
    "OUTPUT = \"../output/\""
   ]
  },
  {
   "cell_type": "code",
   "execution_count": 3,
   "metadata": {},
   "outputs": [],
   "source": [
    "# Set naming convention for categories\n",
    "inun_freq_key_list = [\n",
    "    [0, 'Always',], \n",
    "    [1, 'At least every 30-days',], \n",
    "    [2, 'At least every 60-days'], \n",
    "    [3, 'At least every 90-days'], \n",
    "    [4, '10-year storm surge'], \n",
    "    [5, '100-year storm surge'], \n",
    "    [8, 'Protected by dikes']\n",
    "]\n",
    "\n",
    "inun_freq_key_df = pd.DataFrame(inun_freq_key_list, columns=['inun_freq_code', 'inun_freq_leg'])"
   ]
  },
  {
   "cell_type": "code",
   "execution_count": 4,
   "metadata": {},
   "outputs": [],
   "source": [
    "# Create color theme\n",
    "flood_colors = {\n",
    "    'Always': '#0F2B5FFF',\n",
    "    'At least every 30-days': '#5991C7FF', \n",
    "    'At least every 60-days': '#8EC1E7FF', \n",
    "    'At least every 90-days': '#B9DBF1FF', \n",
    "    '10-year storm surge': '#FDB958FF', \n",
    "    '100-year storm surge': '#FCE3A8FF', \n",
    "    'Protected by dikes': 'purple'\n",
    "}"
   ]
  },
  {
   "cell_type": "code",
   "execution_count": 5,
   "metadata": {},
   "outputs": [],
   "source": [
    "# set order of legend\n",
    "order_leg = [\n",
    "    'Always', \n",
    "    'At least every 30-days',\n",
    "    'At least every 60-days',\n",
    "    'At least every 90-days',\n",
    "    '10-year storm surge',\n",
    "    '100-year storm surge',\n",
    "    'Protected by dikes'\n",
    "]"
   ]
  },
  {
   "cell_type": "code",
   "execution_count": 6,
   "metadata": {},
   "outputs": [],
   "source": [
    "# Import functions from util\n",
    "from util import add_missing_cats\n",
    "from util import create_categorical_cmap"
   ]
  },
  {
   "cell_type": "code",
   "execution_count": 18,
   "metadata": {},
   "outputs": [],
   "source": [
    "# function to make the flooding frequency maps\n",
    "def make_flood_map(slamm_file_path:str, leg_names:pd.DataFrame, color_dict, order_leg, output_path:str, cranberry_path:str):\n",
    "\n",
    "    # read in file\n",
    "    slamm_file = gpd.read_file(slamm_file_path)\n",
    "    slamm_file = slamm_file.merge(leg_names, on='inun_freq_code', how='left')\n",
    "\n",
    "    # fill in missing values\n",
    "    slamm_file = add_missing_cats(slamm_file, order_leg, 'blank')\n",
    "\n",
    "    # set the x and y lims for each marsh\n",
    "    if 'ri2' in slamm_file_path:\n",
    "        xleft = 0\n",
    "        xright = 0\n",
    "        yup = 0\n",
    "    if 'ma2' in slamm_file_path:\n",
    "        xleft = 0\n",
    "        xright = 0\n",
    "        yup = 0.001e6\n",
    "    if 'cc1' in slamm_file_path:\n",
    "        xleft = 0.0002e6\n",
    "        xright = 0.00025e6\n",
    "        yup = 0.001e6\n",
    "\n",
    "    # set x and y limits\n",
    "    xlim = (slamm_file.total_bounds[0] + xleft,  slamm_file.total_bounds[2] - xright)\n",
    "    ylim = (slamm_file.total_bounds[1] + yup,  slamm_file.total_bounds[3])\n",
    "\n",
    "    # Make map\n",
    "    fig, ax = plt.subplots(figsize=(15, 10))\n",
    "    slamm_file.plot(ax=ax, \n",
    "                column='inun_freq_leg', \n",
    "                cmap = create_categorical_cmap(color_dict, order_leg),\n",
    "                alpha=0.5, \n",
    "                legend=True)\n",
    "    cx.add_basemap(ax, source=cx.providers.CartoDB.Positron, crs = slamm_file.crs, zoom=14)\n",
    "    ax.set_xlim(xlim)\n",
    "    ax.set_ylim(ylim)\n",
    "    ax.set_xticks([])\n",
    "    ax.set_yticks([])\n",
    "    legend = ax.get_legend()\n",
    "    handles = [None] * len(order_leg)\n",
    "    for handle, label in zip(legend.legend_handles, legend.texts):\n",
    "        text = label.get_text()\n",
    "        handles[order_leg.index(text)] = handle\n",
    "    ax.legend(handles, order_leg, title='Flooding Frequency')\n",
    "    ax\n",
    "\n",
    "    # Save map\n",
    "    fig.savefig(output_path, dpi=350, bbox_inches=\"tight\")"
   ]
  },
  {
   "cell_type": "code",
   "execution_count": null,
   "metadata": {},
   "outputs": [],
   "source": [
    "# Make a flooding frequency map for each marsh and sea level rise and marsh scenario\n",
    "FILE_PATH_PATTERN = re.compile(r\"(cc1|ma2|ri2)\\/.*(1|2)slr_.*(20|70|40)_(n|s).*\\.geojson\", re.IGNORECASE)\n",
    "pbar = tqdm(glob.glob(f\"{SLAMM_RESULTS}/*/*.geojson\"))\n",
    "\n",
    "for fpath in pbar:\n",
    "    fpath = fpath.replace(\"\\\\\", \"/\")\n",
    "    pbar.set_description(f\"Processing {fpath.split('/')[-1]}\")\n",
    "    match = FILE_PATH_PATTERN.search(fpath)\n",
    "    if match is None:\n",
    "        continue\n",
    "    marsh_id = match.group(1)\n",
    "    slr_scenario = match.group(2)\n",
    "    year = match.group(3)\n",
    "    marsh_initial = match.group(4)\n",
    "\n",
    "    make_flood_map(\n",
    "        fpath,\n",
    "        inun_freq_key_df,\n",
    "        flood_colors,\n",
    "        order_leg,\n",
    "        OUTPUT + f'{marsh_id}/{marsh_id}_{slr_scenario}slr_{year}_{marsh_initial}m_flood.png') "
   ]
  }
 ],
 "metadata": {
  "kernelspec": {
   "display_name": "geospatial-new",
   "language": "python",
   "name": "python3"
  },
  "language_info": {
   "codemirror_mode": {
    "name": "ipython",
    "version": 3
   },
   "file_extension": ".py",
   "mimetype": "text/x-python",
   "name": "python",
   "nbconvert_exporter": "python",
   "pygments_lexer": "ipython3",
   "version": "3.11.9"
  }
 },
 "nbformat": 4,
 "nbformat_minor": 2
}
