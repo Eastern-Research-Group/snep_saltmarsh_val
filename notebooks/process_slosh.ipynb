{
 "cells": [
  {
   "cell_type": "markdown",
   "metadata": {},
   "source": [
    "# Process Sea Lake and Overland Surges from Hurricanes (SLOSH) data for input into SLAMM"
   ]
  },
  {
   "cell_type": "code",
   "execution_count": 1,
   "metadata": {},
   "outputs": [
    {
     "name": "stderr",
     "output_type": "stream",
     "text": [
      "c:\\Users\\AMarley.ERG\\.conda\\envs\\geospatial-new\\Lib\\site-packages\\tqdm\\auto.py:21: TqdmWarning: IProgress not found. Please update jupyter and ipywidgets. See https://ipywidgets.readthedocs.io/en/stable/user_install.html\n",
      "  from .autonotebook import tqdm as notebook_tqdm\n"
     ]
    }
   ],
   "source": [
    "import pandas as pd\n",
    "import geopandas as gpd\n",
    "import rioxarray as rx\n",
    "import matplotlib.pyplot as plt\n",
    "import geowombat as gw"
   ]
  },
  {
   "cell_type": "code",
   "execution_count": 2,
   "metadata": {},
   "outputs": [],
   "source": [
    "# data paths\n",
    "raw_data = \"../data/raw/\"\n",
    "clean_data = \"../data/clean/\"\n",
    "\n",
    "# SLOSH\n",
    "cc_1_cat_1_path = raw_data + 'US_SLOSH_MOM_Inundation_v3/cc-1_Category1_MOM_Inundation_HIGH.tif'\n",
    "cc_1_cat_3_path = raw_data + 'US_SLOSH_MOM_Inundation_v3/cc-1_Category3_MOM_Inundation_HIGH.tif'\n",
    "ma_2_cat_1_path = raw_data + 'US_SLOSH_MOM_Inundation_v3/ma-2_Category1_MOM_Inundation_HIGH.tif'\n",
    "ma_2_cat_3_path = raw_data + 'US_SLOSH_MOM_Inundation_v3/ma-2_Category3_MOM_Inundation_HIGH.tif'\n",
    "ri_2_cat_1_path = raw_data + 'US_SLOSH_MOM_Inundation_v3/ri-2_Category1_MOM_Inundation_HIGH.tif'\n",
    "ri_2_cat_3_path = raw_data + 'US_SLOSH_MOM_Inundation_v3/ri-2_Category3_MOM_Inundation_HIGH.tif'\n",
    "\n",
    "# Raster DEM\n",
    "cc1_dem_path = clean_data + \"dem/cc1_dem.tif\"\n",
    "ma2_dem_path = clean_data + \"dem/ma2_dem.tif\"\n",
    "ri2_dem_path = clean_data + \"dem/ri2_dem.tif\""
   ]
  },
  {
   "cell_type": "code",
   "execution_count": 7,
   "metadata": {},
   "outputs": [],
   "source": [
    "# resample the SLOSH data to the same resolution as the DEM\n",
    "def resample_raster(in_path_ref: str, in_path_ref_rs: str, out_path:str):\n",
    "\n",
    "    #fig, ax = plt.subplots(dpi=200)\n",
    "    with gw.config.update(ref_image=in_path_ref):\n",
    "        with gw.open(in_path_ref_rs, resampling=\"nearest\", nodata=-9999) as src:\n",
    "            print(src)\n",
    "            #ax.imshow(src.data[0])\n",
    "\n",
    "            # to write out simply:\n",
    "            src.gw.to_raster(\n",
    "                out_path,\n",
    "                overwrite=True\n",
    "            ) \n",
    "    # save the file as a asc\n",
    "    tif_file = rx.open_rasterio(out_path)\n",
    "    tif_file.rio.to_raster(out_path.replace('.tif', '.asc'))"
   ]
  },
  {
   "cell_type": "code",
   "execution_count": null,
   "metadata": {},
   "outputs": [],
   "source": [
    "resample_raster(ri2_dem_path, ri_2_cat_1_path, clean_data + \"storm_surge/ri2_cat_1_00_010.tif\")"
   ]
  },
  {
   "cell_type": "code",
   "execution_count": null,
   "metadata": {},
   "outputs": [],
   "source": [
    "resample_raster(ri2_dem_path, ri_2_cat_3_path, clean_data + \"storm_surge/ri2_cat_1_00_100.tif\")"
   ]
  },
  {
   "cell_type": "code",
   "execution_count": null,
   "metadata": {},
   "outputs": [],
   "source": [
    "resample_raster(cc1_dem_path, cc_1_cat_1_path, clean_data + \"torm_surge/cc_1_cat_1_00_010.tif\")"
   ]
  }
 ],
 "metadata": {
  "kernelspec": {
   "display_name": "geospatial-new",
   "language": "python",
   "name": "python3"
  },
  "language_info": {
   "codemirror_mode": {
    "name": "ipython",
    "version": 3
   },
   "file_extension": ".py",
   "mimetype": "text/x-python",
   "name": "python",
   "nbconvert_exporter": "python",
   "pygments_lexer": "ipython3",
   "version": "3.11.9"
  }
 },
 "nbformat": 4,
 "nbformat_minor": 2
}
